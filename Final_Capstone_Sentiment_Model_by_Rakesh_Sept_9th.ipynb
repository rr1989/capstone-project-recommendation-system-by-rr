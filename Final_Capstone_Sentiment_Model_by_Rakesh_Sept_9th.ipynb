{
  "nbformat": 4,
  "nbformat_minor": 0,
  "metadata": {
    "colab": {
      "name": "Final Capstone -Sentiment Model by Rakesh Sept 9th.ipynb",
      "provenance": [],
      "collapsed_sections": [],
      "include_colab_link": true
    },
    "kernelspec": {
      "display_name": "Python 3",
      "language": "python",
      "name": "python3"
    },
    "language_info": {
      "codemirror_mode": {
        "name": "ipython",
        "version": 3
      },
      "file_extension": ".py",
      "mimetype": "text/x-python",
      "name": "python",
      "nbconvert_exporter": "python",
      "pygments_lexer": "ipython3",
      "version": "3.8.5"
    }
  },
  "cells": [
    {
      "cell_type": "markdown",
      "metadata": {
        "id": "view-in-github",
        "colab_type": "text"
      },
      "source": [
        "<a href=\"https://colab.research.google.com/github/rr1989/capstone-project-recommendation-system-by-rr/blob/main/Final_Capstone_Sentiment_Model_by_Rakesh_Sept_9th.ipynb\" target=\"_parent\"><img src=\"https://colab.research.google.com/assets/colab-badge.svg\" alt=\"Open In Colab\"/></a>"
      ]
    },
    {
      "cell_type": "markdown",
      "metadata": {
        "id": "GS193jefiVJu"
      },
      "source": [
        "### 1. Read Dataset "
      ]
    },
    {
      "cell_type": "code",
      "metadata": {
        "id": "CiXn_yM1iVJx"
      },
      "source": [
        "import pandas as pd"
      ],
      "execution_count": 8,
      "outputs": []
    },
    {
      "cell_type": "code",
      "metadata": {
        "id": "sIiH-zGLiVJy"
      },
      "source": [
        "Ebuss_df = pd.read_csv(\"sample30.csv\")"
      ],
      "execution_count": 9,
      "outputs": []
    },
    {
      "cell_type": "code",
      "metadata": {
        "id": "GMu_Nz5TocUj"
      },
      "source": [
        "#from google.colab import drive\n",
        "#drive.mount('/content/drive')\n",
        "\n",
        "#4/1AX4XfWia6njZ9vVibgqaEcY-xbnjkB1M_h84ECS97pbmu3G5fQkCb2cVSuw"
      ],
      "execution_count": 10,
      "outputs": []
    },
    {
      "cell_type": "code",
      "metadata": {
        "colab": {
          "base_uri": "https://localhost:8080/",
          "height": 581
        },
        "id": "kbZaGqMUiVJy",
        "outputId": "5f62f4b9-8448-4830-b4ac-2df0cac493ed"
      },
      "source": [
        "Ebuss_df.head()"
      ],
      "execution_count": 11,
      "outputs": [
        {
          "output_type": "execute_result",
          "data": {
            "text/html": [
              "<div>\n",
              "<style scoped>\n",
              "    .dataframe tbody tr th:only-of-type {\n",
              "        vertical-align: middle;\n",
              "    }\n",
              "\n",
              "    .dataframe tbody tr th {\n",
              "        vertical-align: top;\n",
              "    }\n",
              "\n",
              "    .dataframe thead th {\n",
              "        text-align: right;\n",
              "    }\n",
              "</style>\n",
              "<table border=\"1\" class=\"dataframe\">\n",
              "  <thead>\n",
              "    <tr style=\"text-align: right;\">\n",
              "      <th></th>\n",
              "      <th>id</th>\n",
              "      <th>brand</th>\n",
              "      <th>categories</th>\n",
              "      <th>manufacturer</th>\n",
              "      <th>name</th>\n",
              "      <th>reviews_date</th>\n",
              "      <th>reviews_didPurchase</th>\n",
              "      <th>reviews_doRecommend</th>\n",
              "      <th>reviews_rating</th>\n",
              "      <th>reviews_text</th>\n",
              "      <th>reviews_title</th>\n",
              "      <th>reviews_userCity</th>\n",
              "      <th>reviews_userProvince</th>\n",
              "      <th>reviews_username</th>\n",
              "      <th>user_sentiment</th>\n",
              "    </tr>\n",
              "  </thead>\n",
              "  <tbody>\n",
              "    <tr>\n",
              "      <th>0</th>\n",
              "      <td>AV13O1A8GV-KLJ3akUyj</td>\n",
              "      <td>Universal Music</td>\n",
              "      <td>Movies, Music &amp; Books,Music,R&amp;b,Movies &amp; TV,Mo...</td>\n",
              "      <td>Universal Music Group / Cash Money</td>\n",
              "      <td>Pink Friday: Roman Reloaded Re-Up (w/dvd)</td>\n",
              "      <td>2012-11-30T06:21:45.000Z</td>\n",
              "      <td>NaN</td>\n",
              "      <td>NaN</td>\n",
              "      <td>5</td>\n",
              "      <td>i love this album. it's very good. more to the...</td>\n",
              "      <td>Just Awesome</td>\n",
              "      <td>Los Angeles</td>\n",
              "      <td>NaN</td>\n",
              "      <td>joshua</td>\n",
              "      <td>Positive</td>\n",
              "    </tr>\n",
              "    <tr>\n",
              "      <th>1</th>\n",
              "      <td>AV14LG0R-jtxr-f38QfS</td>\n",
              "      <td>Lundberg</td>\n",
              "      <td>Food,Packaged Foods,Snacks,Crackers,Snacks, Co...</td>\n",
              "      <td>Lundberg</td>\n",
              "      <td>Lundberg Organic Cinnamon Toast Rice Cakes</td>\n",
              "      <td>2017-07-09T00:00:00.000Z</td>\n",
              "      <td>True</td>\n",
              "      <td>NaN</td>\n",
              "      <td>5</td>\n",
              "      <td>Good flavor. This review was collected as part...</td>\n",
              "      <td>Good</td>\n",
              "      <td>NaN</td>\n",
              "      <td>NaN</td>\n",
              "      <td>dorothy w</td>\n",
              "      <td>Positive</td>\n",
              "    </tr>\n",
              "    <tr>\n",
              "      <th>2</th>\n",
              "      <td>AV14LG0R-jtxr-f38QfS</td>\n",
              "      <td>Lundberg</td>\n",
              "      <td>Food,Packaged Foods,Snacks,Crackers,Snacks, Co...</td>\n",
              "      <td>Lundberg</td>\n",
              "      <td>Lundberg Organic Cinnamon Toast Rice Cakes</td>\n",
              "      <td>2017-07-09T00:00:00.000Z</td>\n",
              "      <td>True</td>\n",
              "      <td>NaN</td>\n",
              "      <td>5</td>\n",
              "      <td>Good flavor.</td>\n",
              "      <td>Good</td>\n",
              "      <td>NaN</td>\n",
              "      <td>NaN</td>\n",
              "      <td>dorothy w</td>\n",
              "      <td>Positive</td>\n",
              "    </tr>\n",
              "    <tr>\n",
              "      <th>3</th>\n",
              "      <td>AV16khLE-jtxr-f38VFn</td>\n",
              "      <td>K-Y</td>\n",
              "      <td>Personal Care,Medicine Cabinet,Lubricant/Sperm...</td>\n",
              "      <td>K-Y</td>\n",
              "      <td>K-Y Love Sensuality Pleasure Gel</td>\n",
              "      <td>2016-01-06T00:00:00.000Z</td>\n",
              "      <td>False</td>\n",
              "      <td>False</td>\n",
              "      <td>1</td>\n",
              "      <td>I read through the reviews on here before look...</td>\n",
              "      <td>Disappointed</td>\n",
              "      <td>NaN</td>\n",
              "      <td>NaN</td>\n",
              "      <td>rebecca</td>\n",
              "      <td>Negative</td>\n",
              "    </tr>\n",
              "    <tr>\n",
              "      <th>4</th>\n",
              "      <td>AV16khLE-jtxr-f38VFn</td>\n",
              "      <td>K-Y</td>\n",
              "      <td>Personal Care,Medicine Cabinet,Lubricant/Sperm...</td>\n",
              "      <td>K-Y</td>\n",
              "      <td>K-Y Love Sensuality Pleasure Gel</td>\n",
              "      <td>2016-12-21T00:00:00.000Z</td>\n",
              "      <td>False</td>\n",
              "      <td>False</td>\n",
              "      <td>1</td>\n",
              "      <td>My husband bought this gel for us. The gel cau...</td>\n",
              "      <td>Irritation</td>\n",
              "      <td>NaN</td>\n",
              "      <td>NaN</td>\n",
              "      <td>walker557</td>\n",
              "      <td>Negative</td>\n",
              "    </tr>\n",
              "  </tbody>\n",
              "</table>\n",
              "</div>"
            ],
            "text/plain": [
              "                     id            brand  ... reviews_username user_sentiment\n",
              "0  AV13O1A8GV-KLJ3akUyj  Universal Music  ...           joshua       Positive\n",
              "1  AV14LG0R-jtxr-f38QfS         Lundberg  ...        dorothy w       Positive\n",
              "2  AV14LG0R-jtxr-f38QfS         Lundberg  ...        dorothy w       Positive\n",
              "3  AV16khLE-jtxr-f38VFn              K-Y  ...          rebecca       Negative\n",
              "4  AV16khLE-jtxr-f38VFn              K-Y  ...        walker557       Negative\n",
              "\n",
              "[5 rows x 15 columns]"
            ]
          },
          "metadata": {},
          "execution_count": 11
        }
      ]
    },
    {
      "cell_type": "markdown",
      "metadata": {
        "id": "HclV1L5KiVJz"
      },
      "source": [
        "### 2. Exploratory data analysis"
      ]
    },
    {
      "cell_type": "code",
      "metadata": {
        "id": "MebM2YGBiVJ0"
      },
      "source": [
        "null_data = Ebuss_df.isnull().sum()"
      ],
      "execution_count": 12,
      "outputs": []
    },
    {
      "cell_type": "code",
      "metadata": {
        "colab": {
          "base_uri": "https://localhost:8080/"
        },
        "id": "A3AbSk0eiVJ0",
        "outputId": "655eaad6-3c39-4fab-ace3-227c937486ff"
      },
      "source": [
        "null_data"
      ],
      "execution_count": 13,
      "outputs": [
        {
          "output_type": "execute_result",
          "data": {
            "text/plain": [
              "id                          0\n",
              "brand                       0\n",
              "categories                  0\n",
              "manufacturer              141\n",
              "name                        0\n",
              "reviews_date               46\n",
              "reviews_didPurchase     14068\n",
              "reviews_doRecommend      2570\n",
              "reviews_rating              0\n",
              "reviews_text                0\n",
              "reviews_title             190\n",
              "reviews_userCity        28071\n",
              "reviews_userProvince    29830\n",
              "reviews_username           63\n",
              "user_sentiment              1\n",
              "dtype: int64"
            ]
          },
          "metadata": {},
          "execution_count": 13
        }
      ]
    },
    {
      "cell_type": "code",
      "metadata": {
        "id": "Nbkl2bAIiVJ1"
      },
      "source": [
        "import matplotlib.pyplot as plt\n",
        "import seaborn as sns"
      ],
      "execution_count": 14,
      "outputs": []
    },
    {
      "cell_type": "code",
      "metadata": {
        "colab": {
          "base_uri": "https://localhost:8080/",
          "height": 425
        },
        "id": "OgpbzJxKiVJ2",
        "outputId": "215aafed-462d-43db-d3bd-3c27fec093c0"
      },
      "source": [
        "fig = plt.figure(figsize=(50, 20))\n",
        "data_plot = plt.plot(null_data.index,null_data,label='Null Count Across Attributes',color='r')\n",
        "plt.title('Null Frequencies',fontsize=14)\n",
        "plt.xlabel('Attributes',color = 'g',fontsize=14)\n",
        "plt.ylabel('Null Count',color = 'b',fontsize=14,labelpad=15)\n",
        "plt.legend()\n",
        "plt.tick_params(labelsize=15);\n",
        "plt.show()\n",
        "\n",
        "#!pip install mpld3\n",
        "#import mpld3\n",
        "#labels = ['point {0}'.format(i + 1) for i in range(100)]\n",
        "#tooltip = mpld3.plugins.PointLabelTooltip(data_plot, labels=labels)\n",
        "#mpld3.plugins.connect(fig, tooltip)\n",
        "#mpld3.show()\n"
      ],
      "execution_count": 15,
      "outputs": [
        {
          "output_type": "display_data",
          "data": {
            "image/png": "[encoded data removed]",
            "text/plain": [
              "<Figure size 3600x1440 with 1 Axes>"
            ]
          },
          "metadata": {
            "needs_background": "light"
          }
        }
      ]
    },
    {
      "cell_type": "markdown",
      "metadata": {
        "id": "HsiYEKmKiVJ3"
      },
      "source": [
        "##### Observations :\n",
        "\n",
        "> missing values are maximum for below mentioned attributes.\n",
        "\n",
        "a. reviews_didPurchase \n",
        "b. reviews_userCity\n",
        "c. reviews_userProvince"
      ]
    },
    {
      "cell_type": "markdown",
      "metadata": {
        "id": "yzDejRH6iVJ3"
      },
      "source": [
        "### We have to predict review_rating based on the review_text. So we'll be ultimately concentrating there but let's perform EDA on other attributes to understand the dataset"
      ]
    },
    {
      "cell_type": "markdown",
      "metadata": {
        "id": "PW5WAGaYiVJ4"
      },
      "source": [
        "##### Top 10 brands"
      ]
    },
    {
      "cell_type": "code",
      "metadata": {
        "colab": {
          "base_uri": "https://localhost:8080/"
        },
        "id": "F_xIH-WciVJ4",
        "outputId": "5f91f43e-77c8-4845-9c6b-7937e49b3e94"
      },
      "source": [
        "Ebuss_df[\"brand\"].value_counts().sort_values(ascending=False).head(10)\n"
      ],
      "execution_count": 16,
      "outputs": [
        {
          "output_type": "execute_result",
          "data": {
            "text/plain": [
              "Clorox                  10585\n",
              "Warner Home Video        3325\n",
              "Disney                   1200\n",
              "L'oreal Paris            1186\n",
              "FOX                       887\n",
              "Burt's Bees               881\n",
              "Sony Pictures             845\n",
              "Summit Entertainment      813\n",
              "Nexxus                    693\n",
              "Universal Home Video      668\n",
              "Name: brand, dtype: int64"
            ]
          },
          "metadata": {},
          "execution_count": 16
        }
      ]
    },
    {
      "cell_type": "markdown",
      "metadata": {
        "id": "Ro4MTudjiVJ4"
      },
      "source": [
        "##### Top 10 categories "
      ]
    },
    {
      "cell_type": "code",
      "metadata": {
        "colab": {
          "base_uri": "https://localhost:8080/"
        },
        "id": "J47WHHhdiVJ4",
        "outputId": "be04ae2f-eba0-4538-9cfd-55c9b32854f4"
      },
      "source": [
        "Ebuss_df[\"categories\"].value_counts().sort_values(ascending=False).head(10)"
      ],
      "execution_count": 17,
      "outputs": [
        {
          "output_type": "execute_result",
          "data": {
            "text/plain": [
              "Household Essentials,Cleaning Supplies,Kitchen Cleaners,Cleaning Wipes,All-Purpose Cleaners,Health & Household,Household Supplies,Household Cleaning,Ways To Shop,Classroom Essentials,Featured Brands,Home And Storage & Org,Clorox,Glass Cleaners,Surface Care & Protection,Business & Industrial,Cleaning & Janitorial Supplies,Cleaners & Disinfectants,Cleaning Wipes & Pads,Cleaning Solutions,Housewares,Target Restock,Food & Grocery,Paper Goods,Wipes,All Purpose Cleaners    8545\n",
              "Movies, Music & Books,Movies,Action & Adventure,Movies & Music,Movies & TV Shows,Frys                                                                                                                                                                                                                                                                                                                                                                                                   3325\n",
              "Household Chemicals,Household Cleaners,Bath & Shower Cleaner,Household Essentials,Cleaning Supplies,Bathroom Cleaners,Prime Pantry,Bathroom,Featured Brands,Home And Storage & Org,Clorox,All-purpose Cleaners,Health & Household,Household Supplies,Household Cleaning,Target Restock,Food & Grocery                                                                                                                                                                                   2039\n",
              "Beauty,Hair Care,Shampoo & Conditioner,Holiday Shop,Christmas,Featured Brands,Health & Beauty,L'oreal,Personal Care,Hair Treatments,Conditioner                                                                                                                                                                                                                                                                                                                                         1186\n",
              "Movies, Music & Books,Movies,Kids' & Family,Ways To Shop Entertainment,Movies & Tv On Blu-Ray,Movies & TV,Disney,Blu-ray,Children & Family,Movies & Music,Movies & TV Shows,Electronics, Tech Toys, Movies, Music,Blu-Rays,See ALL Blu-Ray,Frys                                                                                                                                                                                                                                         1143\n",
              "Personal Care,Makeup,Lipstick, Lip Gloss, & Lip Balm,Lip Gloss,Beauty,Lips,Beauty & Personal Care,Skin Care,Lip Care,Lip Balms & Treatments                                                                                                                                                                                                                                                                                                                                              873\n",
              "Movies, Music & Books,Ways To Shop Entertainment,Movie & Tv Box Sets,Movies,Horror,Movies & TV Shows,All Horror,Movies & Tv On Blu-Ray,Movies & TV,Blu-ray,Action & Adventure,Movies & Music,Holiday Shop                                                                                                                                                                                                                                                                                845\n",
              "Movies & TV Shows,Movies,Romance,Romantic Comedies,Movies, Music & Books,Comedy,Movies & TV,Ways To Shop Entertainment,Recent Release & 4k Movies Sale,Movies & Music,Holiday Shop                                                                                                                                                                                                                                                                                                       757\n",
              "Personal Care,Hair Care,Styling Gel/Lotion,Beauty,Salon Hair Care,Styling Products,Featured Brands,Health & Beauty,Unilever,Ways To Shop                                                                                                                                                                                                                                                                                                                                                 693\n",
              "Movies & TV Shows,Instawatch Movies By VUDU,Shop Instawatch,Movies, Music & Books,Movies,Action & Adventure,Movies & TV,Movies & Music,Special Editions,Comedy,Studio Specials,Instawatch                                                                                                                                                                                                                                                                                                672\n",
              "Name: categories, dtype: int64"
            ]
          },
          "metadata": {},
          "execution_count": 17
        }
      ]
    },
    {
      "cell_type": "markdown",
      "metadata": {
        "id": "jp15opKmiVJ5"
      },
      "source": [
        "##### Top 10 manufacturer "
      ]
    },
    {
      "cell_type": "code",
      "metadata": {
        "colab": {
          "base_uri": "https://localhost:8080/"
        },
        "id": "YEE8kMusiVJ5",
        "outputId": "07df8e33-f26c-4916-f5f6-e52ab86a24e3"
      },
      "source": [
        "Ebuss_df[\"manufacturer\"].value_counts().sort_values(ascending=False).head(10)"
      ],
      "execution_count": 18,
      "outputs": [
        {
          "output_type": "execute_result",
          "data": {
            "text/plain": [
              "Clorox                    8546\n",
              "Test                      3325\n",
              "AmazonUs/CLOO7            2039\n",
              "L'oreal Paris             1232\n",
              "Walt Disney               1143\n",
              "Burt's Bees                873\n",
              "SONY CORP                  845\n",
              "Twentieth Century Fox      757\n",
              "P&G                        730\n",
              "Nexxus Beauty Products     693\n",
              "Name: manufacturer, dtype: int64"
            ]
          },
          "metadata": {},
          "execution_count": 18
        }
      ]
    },
    {
      "cell_type": "markdown",
      "metadata": {
        "id": "4bvc18fXiVJ5"
      },
      "source": [
        "##### Top 10 Product name"
      ]
    },
    {
      "cell_type": "code",
      "metadata": {
        "colab": {
          "base_uri": "https://localhost:8080/"
        },
        "id": "75nqrYNSiVJ5",
        "outputId": "f892034b-cc9b-4282-ca97-d92db1c1eb8a"
      },
      "source": [
        "Ebuss_df[\"name\"].value_counts().sort_values(ascending=False).head(10)"
      ],
      "execution_count": 19,
      "outputs": [
        {
          "output_type": "execute_result",
          "data": {
            "text/plain": [
              "Clorox Disinfecting Wipes Value Pack Scented 150 Ct Total                         8545\n",
              "Godzilla 3d Includes Digital Copy Ultraviolet 3d/2d Blu-Ray/dvd                   3325\n",
              "Clorox Disinfecting Bathroom Cleaner                                              2039\n",
              "L'or233al Paris Elvive Extraordinary Clay Rebalancing Conditioner - 12.6 Fl Oz    1186\n",
              "Planes: Fire Rescue (2 Discs) (includes Digital Copy) (blu-Ray/dvd)               1143\n",
              "Burt's Bees Lip Shimmer, Raisin                                                    873\n",
              "The Resident Evil Collection 5 Discs (blu-Ray)                                     845\n",
              "Mike Dave Need Wedding Dates (dvd + Digital)                                       757\n",
              "Nexxus Exxtra Gel Style Creation Sculptor                                          693\n",
              "Red (special Edition) (dvdvideo)                                                   672\n",
              "Name: name, dtype: int64"
            ]
          },
          "metadata": {},
          "execution_count": 19
        }
      ]
    },
    {
      "cell_type": "markdown",
      "metadata": {
        "id": "b-FQlTwtiVJ5"
      },
      "source": [
        "##### Whether a particular user has purchased the product or not"
      ]
    },
    {
      "cell_type": "code",
      "metadata": {
        "colab": {
          "base_uri": "https://localhost:8080/"
        },
        "id": "DBRHoZ0biVJ6",
        "outputId": "35367b59-4398-43ad-fcd5-731b31188b51"
      },
      "source": [
        "Ebuss_df[\"reviews_didPurchase\"].value_counts().sort_values(ascending=False).head(10)"
      ],
      "execution_count": 20,
      "outputs": [
        {
          "output_type": "execute_result",
          "data": {
            "text/plain": [
              "False    14498\n",
              "True      1434\n",
              "Name: reviews_didPurchase, dtype: int64"
            ]
          },
          "metadata": {},
          "execution_count": 20
        }
      ]
    },
    {
      "cell_type": "markdown",
      "metadata": {
        "id": "PhS-VP9FiVJ6"
      },
      "source": [
        "##### Whether a particular user has recommended the product or not"
      ]
    },
    {
      "cell_type": "code",
      "metadata": {
        "colab": {
          "base_uri": "https://localhost:8080/"
        },
        "id": "3rtCFopliVJ6",
        "outputId": "dce7b363-6614-4bb0-e0f1-93b56c729203"
      },
      "source": [
        "Ebuss_df[\"reviews_doRecommend\"].value_counts().sort_values(ascending=False).head(10)"
      ],
      "execution_count": 21,
      "outputs": [
        {
          "output_type": "execute_result",
          "data": {
            "text/plain": [
              "True     25880\n",
              "False     1550\n",
              "Name: reviews_doRecommend, dtype: int64"
            ]
          },
          "metadata": {},
          "execution_count": 21
        }
      ]
    },
    {
      "cell_type": "markdown",
      "metadata": {
        "id": "F99gLjIPiVJ6"
      },
      "source": [
        "##### Top 5 reviews_rating "
      ]
    },
    {
      "cell_type": "code",
      "metadata": {
        "colab": {
          "base_uri": "https://localhost:8080/"
        },
        "id": "LOwxM9YqiVJ6",
        "outputId": "cba0fd83-4fa4-4382-d2b8-6093f8d7398e"
      },
      "source": [
        "Ebuss_df[\"reviews_rating\"].value_counts().sort_values(ascending=False).head(5)"
      ],
      "execution_count": 22,
      "outputs": [
        {
          "output_type": "execute_result",
          "data": {
            "text/plain": [
              "5    20831\n",
              "4     6020\n",
              "1     1384\n",
              "3     1345\n",
              "2      420\n",
              "Name: reviews_rating, dtype: int64"
            ]
          },
          "metadata": {},
          "execution_count": 22
        }
      ]
    },
    {
      "cell_type": "code",
      "metadata": {
        "id": "b6WcBcOgiVJ7"
      },
      "source": [
        "ratings = Ebuss_df[\"reviews_rating\"].value_counts()"
      ],
      "execution_count": 23,
      "outputs": []
    },
    {
      "cell_type": "code",
      "metadata": {
        "colab": {
          "base_uri": "https://localhost:8080/",
          "height": 426
        },
        "id": "uppfD1-CiVJ7",
        "outputId": "58303f4a-da1c-4e20-f0f3-4091d3bcbcc5"
      },
      "source": [
        "fig = plt.figure(figsize=(50, 20))\n",
        "\n",
        "plt.bar(ratings.index, ratings.values, color ='g',\n",
        "        width = 0.4)\n",
        " \n",
        "plt.xlabel(\"Ratings\")\n",
        "plt.ylabel(\"Frequencies\")\n",
        "plt.title(\"Ratings distribution\")\n",
        "plt.show()"
      ],
      "execution_count": 24,
      "outputs": [
        {
          "output_type": "display_data",
          "data": {
            "image/png": "[encoded data removed]",
            "text/plain": [
              "<Figure size 3600x1440 with 1 Axes>"
            ]
          },
          "metadata": {
            "needs_background": "light"
          }
        }
      ]
    },
    {
      "cell_type": "code",
      "metadata": {
        "colab": {
          "base_uri": "https://localhost:8080/"
        },
        "id": "4nCDtPkziVJ7",
        "outputId": "57600e57-ba11-493f-96fb-96f22865e616"
      },
      "source": [
        "ratings.values"
      ],
      "execution_count": 25,
      "outputs": [
        {
          "output_type": "execute_result",
          "data": {
            "text/plain": [
              "array([20831,  6020,  1384,  1345,   420])"
            ]
          },
          "metadata": {},
          "execution_count": 25
        }
      ]
    },
    {
      "cell_type": "markdown",
      "metadata": {
        "id": "sSG6OiaGiVJ7"
      },
      "source": [
        "##### Now trying to find the length of review comments for different review ratings . So first we are trying to derive reviews length"
      ]
    },
    {
      "cell_type": "code",
      "metadata": {
        "id": "mIweHbfjiVJ7"
      },
      "source": [
        "Ebuss_df['reviews_length']=Ebuss_df['reviews_text'].apply(len)"
      ],
      "execution_count": 26,
      "outputs": []
    },
    {
      "cell_type": "code",
      "metadata": {
        "colab": {
          "base_uri": "https://localhost:8080/"
        },
        "id": "o-kvotMriVJ7",
        "outputId": "4a66684a-2966-4825-fb5d-59a2e29a18f7"
      },
      "source": [
        "Ebuss_df['reviews_length']"
      ],
      "execution_count": 27,
      "outputs": [
        {
          "output_type": "execute_result",
          "data": {
            "text/plain": [
              "0        201\n",
              "1         62\n",
              "2         12\n",
              "3        696\n",
              "4        132\n",
              "        ... \n",
              "29995    222\n",
              "29996    119\n",
              "29997    250\n",
              "29998    335\n",
              "29999    272\n",
              "Name: reviews_length, Length: 30000, dtype: int64"
            ]
          },
          "metadata": {},
          "execution_count": 27
        }
      ]
    },
    {
      "cell_type": "code",
      "metadata": {
        "id": "ceAURGRriVJ7"
      },
      "source": [
        "gk = Ebuss_df.groupby(['reviews_rating','reviews_length'])\n"
      ],
      "execution_count": 28,
      "outputs": []
    },
    {
      "cell_type": "code",
      "metadata": {
        "colab": {
          "base_uri": "https://localhost:8080/",
          "height": 1000
        },
        "id": "PvRBqEohiVJ8",
        "outputId": "91ca0845-df10-40a5-8a35-3772b9cec828"
      },
      "source": [
        "gk.first()\n"
      ],
      "execution_count": 29,
      "outputs": [
        {
          "output_type": "execute_result",
          "data": {
            "text/html": [
              "<div>\n",
              "<style scoped>\n",
              "    .dataframe tbody tr th:only-of-type {\n",
              "        vertical-align: middle;\n",
              "    }\n",
              "\n",
              "    .dataframe tbody tr th {\n",
              "        vertical-align: top;\n",
              "    }\n",
              "\n",
              "    .dataframe thead th {\n",
              "        text-align: right;\n",
              "    }\n",
              "</style>\n",
              "<table border=\"1\" class=\"dataframe\">\n",
              "  <thead>\n",
              "    <tr style=\"text-align: right;\">\n",
              "      <th></th>\n",
              "      <th></th>\n",
              "      <th>id</th>\n",
              "      <th>brand</th>\n",
              "      <th>categories</th>\n",
              "      <th>manufacturer</th>\n",
              "      <th>name</th>\n",
              "      <th>reviews_date</th>\n",
              "      <th>reviews_didPurchase</th>\n",
              "      <th>reviews_doRecommend</th>\n",
              "      <th>reviews_text</th>\n",
              "      <th>reviews_title</th>\n",
              "      <th>reviews_userCity</th>\n",
              "      <th>reviews_userProvince</th>\n",
              "      <th>reviews_username</th>\n",
              "      <th>user_sentiment</th>\n",
              "    </tr>\n",
              "    <tr>\n",
              "      <th>reviews_rating</th>\n",
              "      <th>reviews_length</th>\n",
              "      <th></th>\n",
              "      <th></th>\n",
              "      <th></th>\n",
              "      <th></th>\n",
              "      <th></th>\n",
              "      <th></th>\n",
              "      <th></th>\n",
              "      <th></th>\n",
              "      <th></th>\n",
              "      <th></th>\n",
              "      <th></th>\n",
              "      <th></th>\n",
              "      <th></th>\n",
              "      <th></th>\n",
              "    </tr>\n",
              "  </thead>\n",
              "  <tbody>\n",
              "    <tr>\n",
              "      <th rowspan=\"5\" valign=\"top\">1</th>\n",
              "      <th>14</th>\n",
              "      <td>AVpfBU2S1cnluZ0-cJsO</td>\n",
              "      <td>Power Crunch</td>\n",
              "      <td>Food,Packaged Foods,Snacks,Energy Bars,Health,...</td>\n",
              "      <td>BNRG</td>\n",
              "      <td>Power Crunch Protein Energy Bar Peanut Butter ...</td>\n",
              "      <td>2016-05-30T00:00:00.000Z</td>\n",
              "      <td>True</td>\n",
              "      <td>False</td>\n",
              "      <td>Horrible taste</td>\n",
              "      <td>Horrible</td>\n",
              "      <td>None</td>\n",
              "      <td>None</td>\n",
              "      <td>jlgreg</td>\n",
              "      <td>Negative</td>\n",
              "    </tr>\n",
              "    <tr>\n",
              "      <th>16</th>\n",
              "      <td>AVpfPPkEilAPnD_xX3cP</td>\n",
              "      <td>Aveeno</td>\n",
              "      <td>Personal Care,Sun Care,Featured Brands,Health ...</td>\n",
              "      <td>Aveeno Baby</td>\n",
              "      <td>Aveeno Baby Continuous Protection Lotion Sunsc...</td>\n",
              "      <td>2016-11-13T00:00:00.000Z</td>\n",
              "      <td>False</td>\n",
              "      <td>True</td>\n",
              "      <td>i don't like it.</td>\n",
              "      <td>One Star</td>\n",
              "      <td>None</td>\n",
              "      <td>None</td>\n",
              "      <td>byamazon customer</td>\n",
              "      <td>Negative</td>\n",
              "    </tr>\n",
              "    <tr>\n",
              "      <th>17</th>\n",
              "      <td>AVpfPPkEilAPnD_xX3cP</td>\n",
              "      <td>Aveeno</td>\n",
              "      <td>Personal Care,Sun Care,Featured Brands,Health ...</td>\n",
              "      <td>Aveeno Baby</td>\n",
              "      <td>Aveeno Baby Continuous Protection Lotion Sunsc...</td>\n",
              "      <td>2017-02-03T00:00:00.000Z</td>\n",
              "      <td>True</td>\n",
              "      <td>False</td>\n",
              "      <td>baby is allergic.</td>\n",
              "      <td>be careful</td>\n",
              "      <td>None</td>\n",
              "      <td>None</td>\n",
              "      <td>byamazon customer</td>\n",
              "      <td>Negative</td>\n",
              "    </tr>\n",
              "    <tr>\n",
              "      <th>19</th>\n",
              "      <td>AVpfPPkEilAPnD_xX3cP</td>\n",
              "      <td>Aveeno</td>\n",
              "      <td>Personal Care,Sun Care,Featured Brands,Health ...</td>\n",
              "      <td>Aveeno Baby</td>\n",
              "      <td>Aveeno Baby Continuous Protection Lotion Sunsc...</td>\n",
              "      <td>2015-08-29T00:00:00.000Z</td>\n",
              "      <td>None</td>\n",
              "      <td>None</td>\n",
              "      <td>contains OXYBENZONE</td>\n",
              "      <td>toxic stuff</td>\n",
              "      <td>None</td>\n",
              "      <td>None</td>\n",
              "      <td>byauctionmail20022000</td>\n",
              "      <td>Negative</td>\n",
              "    </tr>\n",
              "    <tr>\n",
              "      <th>22</th>\n",
              "      <td>AVpf5olc1cnluZ0-tPrO</td>\n",
              "      <td>Chester's</td>\n",
              "      <td>Food,Packaged Foods,Snacks,Chips &amp; Pretzels,Fo...</td>\n",
              "      <td>Frito-Lay</td>\n",
              "      <td>Chester's Cheese Flavored Puffcorn Snacks</td>\n",
              "      <td>2015-09-05T00:00:00.000Z</td>\n",
              "      <td>False</td>\n",
              "      <td>False</td>\n",
              "      <td>Half the bag was stale</td>\n",
              "      <td>Stale</td>\n",
              "      <td>None</td>\n",
              "      <td>None</td>\n",
              "      <td>jackie</td>\n",
              "      <td>Negative</td>\n",
              "    </tr>\n",
              "    <tr>\n",
              "      <th>...</th>\n",
              "      <th>...</th>\n",
              "      <td>...</td>\n",
              "      <td>...</td>\n",
              "      <td>...</td>\n",
              "      <td>...</td>\n",
              "      <td>...</td>\n",
              "      <td>...</td>\n",
              "      <td>...</td>\n",
              "      <td>...</td>\n",
              "      <td>...</td>\n",
              "      <td>...</td>\n",
              "      <td>...</td>\n",
              "      <td>...</td>\n",
              "      <td>...</td>\n",
              "      <td>...</td>\n",
              "    </tr>\n",
              "    <tr>\n",
              "      <th rowspan=\"5\" valign=\"top\">5</th>\n",
              "      <th>3132</th>\n",
              "      <td>AVpfNfEMLJeJML434uf-</td>\n",
              "      <td>UNIVERSAL HOME ENTERTAINMENT</td>\n",
              "      <td>Movies, Music &amp; Books,Movies,Romance,Movies &amp; ...</td>\n",
              "      <td>Universal Studios Home Entertainment</td>\n",
              "      <td>Heiress (dvd)</td>\n",
              "      <td>None</td>\n",
              "      <td>None</td>\n",
              "      <td>None</td>\n",
              "      <td>The Heiress is William Wyler's screen adaptati...</td>\n",
              "      <td>Watch closely</td>\n",
              "      <td>None</td>\n",
              "      <td>None</td>\n",
              "      <td>lyle stevens</td>\n",
              "      <td>Positive</td>\n",
              "    </tr>\n",
              "    <tr>\n",
              "      <th>3392</th>\n",
              "      <td>AVpfNfEMLJeJML434uf-</td>\n",
              "      <td>UNIVERSAL HOME ENTERTAINMENT</td>\n",
              "      <td>Movies, Music &amp; Books,Movies,Romance,Movies &amp; ...</td>\n",
              "      <td>Universal Studios Home Entertainment</td>\n",
              "      <td>Heiress (dvd)</td>\n",
              "      <td>None</td>\n",
              "      <td>None</td>\n",
              "      <td>None</td>\n",
              "      <td>THE HEIRESS is a surprisingly complex drama of...</td>\n",
              "      <td>'Bolt the Door, Maria!'</td>\n",
              "      <td>None</td>\n",
              "      <td>None</td>\n",
              "      <td>martin asiner</td>\n",
              "      <td>Positive</td>\n",
              "    </tr>\n",
              "    <tr>\n",
              "      <th>5664</th>\n",
              "      <td>AVpe9W4D1cnluZ0-avf0</td>\n",
              "      <td>Hoover</td>\n",
              "      <td>Home,Home Appliances,Vacuums &amp; Floor Care,Upri...</td>\n",
              "      <td>Hoover</td>\n",
              "      <td>Hoover174 Platinum Collection153 Lightweight B...</td>\n",
              "      <td>2009-05-24T00:00:00Z</td>\n",
              "      <td>None</td>\n",
              "      <td>None</td>\n",
              "      <td>First, a disclaimer of sorts . Im a long-term,...</td>\n",
              "      <td>Finally ... a Vacuum Cleaning System Worth the...</td>\n",
              "      <td>None</td>\n",
              "      <td>None</td>\n",
              "      <td>jan714</td>\n",
              "      <td>Positive</td>\n",
              "    </tr>\n",
              "    <tr>\n",
              "      <th>5711</th>\n",
              "      <td>AVpe9W4D1cnluZ0-avf0</td>\n",
              "      <td>Hoover</td>\n",
              "      <td>Home,Home Appliances,Vacuums &amp; Floor Care,Upri...</td>\n",
              "      <td>Hoover</td>\n",
              "      <td>Hoover174 Platinum Collection153 Lightweight B...</td>\n",
              "      <td>2009-05-24T00:00:00.000Z</td>\n",
              "      <td>None</td>\n",
              "      <td>True</td>\n",
              "      <td>First, a disclaimer of sorts ?? I?? a long-ter...</td>\n",
              "      <td>Finally ... a Vacuum Cleaning System Worth the...</td>\n",
              "      <td>None</td>\n",
              "      <td>None</td>\n",
              "      <td>jan714</td>\n",
              "      <td>Positive</td>\n",
              "    </tr>\n",
              "    <tr>\n",
              "      <th>5865</th>\n",
              "      <td>AVpe9W4D1cnluZ0-avf0</td>\n",
              "      <td>Hoover</td>\n",
              "      <td>Home,Home Appliances,Vacuums &amp; Floor Care,Upri...</td>\n",
              "      <td>Hoover</td>\n",
              "      <td>Hoover174 Platinum Collection153 Lightweight B...</td>\n",
              "      <td>2009-05-24T00:00:00.000Z</td>\n",
              "      <td>None</td>\n",
              "      <td>True</td>\n",
              "      <td>First, a disclaimer of sorts . I'm a long-term...</td>\n",
              "      <td>Worth Every Cent ... Really!</td>\n",
              "      <td>None</td>\n",
              "      <td>None</td>\n",
              "      <td>None</td>\n",
              "      <td>Positive</td>\n",
              "    </tr>\n",
              "  </tbody>\n",
              "</table>\n",
              "<p>2830 rows × 14 columns</p>\n",
              "</div>"
            ],
            "text/plain": [
              "                                                 id  ... user_sentiment\n",
              "reviews_rating reviews_length                        ...               \n",
              "1              14              AVpfBU2S1cnluZ0-cJsO  ...       Negative\n",
              "               16              AVpfPPkEilAPnD_xX3cP  ...       Negative\n",
              "               17              AVpfPPkEilAPnD_xX3cP  ...       Negative\n",
              "               19              AVpfPPkEilAPnD_xX3cP  ...       Negative\n",
              "               22              AVpf5olc1cnluZ0-tPrO  ...       Negative\n",
              "...                                             ...  ...            ...\n",
              "5              3132            AVpfNfEMLJeJML434uf-  ...       Positive\n",
              "               3392            AVpfNfEMLJeJML434uf-  ...       Positive\n",
              "               5664            AVpe9W4D1cnluZ0-avf0  ...       Positive\n",
              "               5711            AVpe9W4D1cnluZ0-avf0  ...       Positive\n",
              "               5865            AVpe9W4D1cnluZ0-avf0  ...       Positive\n",
              "\n",
              "[2830 rows x 14 columns]"
            ]
          },
          "metadata": {},
          "execution_count": 29
        }
      ]
    },
    {
      "cell_type": "code",
      "metadata": {
        "id": "eWn6Q1HdiVJ8"
      },
      "source": [
        "reviews = Ebuss_df.groupby('reviews_rating')['reviews_length'].mean().sort_values()\n"
      ],
      "execution_count": 30,
      "outputs": []
    },
    {
      "cell_type": "code",
      "metadata": {
        "colab": {
          "base_uri": "https://localhost:8080/",
          "height": 428
        },
        "id": "JwX6BHUsiVJ9",
        "scrolled": true,
        "outputId": "0634f01e-dfb7-45b4-fb12-f9cc7601a1a1"
      },
      "source": [
        "fig = plt.figure(figsize=(50, 20))\n",
        "\n",
        "plt.bar(reviews.index, reviews.values, color ='g',\n",
        "        width = 0.4)\n",
        " \n",
        "plt.xlabel(\"Review Rating\")\n",
        "plt.ylabel(\"Avg Review Length\")\n",
        "plt.title(\"Ratings Length Sentiment Analysis\")\n",
        "plt.show()"
      ],
      "execution_count": 31,
      "outputs": [
        {
          "output_type": "display_data",
          "data": {
            "image/png": "[encoded data removed]",
            "text/plain": [
              "<Figure size 3600x1440 with 1 Axes>"
            ]
          },
          "metadata": {
            "needs_background": "light"
          }
        }
      ]
    },
    {
      "cell_type": "markdown",
      "metadata": {
        "id": "pgW8tBxkiVJ9"
      },
      "source": [
        "##### Observations : We have observed that most users have given 5 ratings but they have written more in detail while giving 1 rating"
      ]
    },
    {
      "cell_type": "markdown",
      "metadata": {
        "id": "VRLRyN-eiVJ9"
      },
      "source": [
        "##### User Sentiments Stat"
      ]
    },
    {
      "cell_type": "code",
      "metadata": {
        "colab": {
          "base_uri": "https://localhost:8080/",
          "height": 426
        },
        "id": "-GXpkTOFiVJ-",
        "outputId": "4915b31d-01d0-418c-a858-42b1a2e6237f"
      },
      "source": [
        "\n",
        "user_sentiment = Ebuss_df[\"user_sentiment\"].value_counts()\n",
        "\n",
        "fig = plt.figure(figsize=(50, 20))\n",
        "\n",
        "plt.bar(user_sentiment.index, user_sentiment.values, color ='g',\n",
        "        width = 0.4)\n",
        " \n",
        "plt.xlabel(\"User Sentiment\")\n",
        "plt.ylabel(\"Frequencies\")\n",
        "plt.title(\"user_sentiment Distribution\")\n",
        "plt.show()\n"
      ],
      "execution_count": 32,
      "outputs": [
        {
          "output_type": "display_data",
          "data": {
            "image/png": "[encoded data removed]",
            "text/plain": [
              "<Figure size 3600x1440 with 1 Axes>"
            ]
          },
          "metadata": {
            "needs_background": "light"
          }
        }
      ]
    },
    {
      "cell_type": "markdown",
      "metadata": {
        "id": "49QHCogaiVJ-"
      },
      "source": [
        "##### Observation - Postive response are more "
      ]
    },
    {
      "cell_type": "code",
      "metadata": {
        "colab": {
          "base_uri": "https://localhost:8080/",
          "height": 287
        },
        "id": "Dd2hUsa1iVJ-",
        "outputId": "15be6d84-0469-479c-bdd2-95114e26f189"
      },
      "source": [
        "sns.heatmap(Ebuss_df.corr(),cmap='coolwarm',annot=True,linewidths=.5)\n"
      ],
      "execution_count": 33,
      "outputs": [
        {
          "output_type": "execute_result",
          "data": {
            "text/plain": [
              "<matplotlib.axes._subplots.AxesSubplot at 0x7f0a0691c390>"
            ]
          },
          "metadata": {},
          "execution_count": 33
        },
        {
          "output_type": "display_data",
          "data": {
            "image/png": "[encoded data removed]",
            "text/plain": [
              "<Figure size 432x288 with 2 Axes>"
            ]
          },
          "metadata": {
            "needs_background": "light"
          }
        }
      ]
    },
    {
      "cell_type": "markdown",
      "metadata": {
        "id": "K1kqIG-2iVJ-"
      },
      "source": [
        "##### Observation - review_ratings are negatively correlated to review comment size "
      ]
    },
    {
      "cell_type": "code",
      "metadata": {
        "colab": {
          "base_uri": "https://localhost:8080/"
        },
        "id": "a65P3wZZiVJ-",
        "outputId": "aa24512f-57e0-4518-c225-f7bc2ed8f921"
      },
      "source": [
        "Ebuss_df.shape"
      ],
      "execution_count": 34,
      "outputs": [
        {
          "output_type": "execute_result",
          "data": {
            "text/plain": [
              "(30000, 16)"
            ]
          },
          "metadata": {},
          "execution_count": 34
        }
      ]
    },
    {
      "cell_type": "markdown",
      "metadata": {
        "id": "VC73urJ2iVJ-"
      },
      "source": [
        "##### Observation - 30,000 rows * 16 columns "
      ]
    },
    {
      "cell_type": "code",
      "metadata": {
        "colab": {
          "base_uri": "https://localhost:8080/",
          "height": 297
        },
        "id": "ZxOCUIFMiVJ-",
        "outputId": "dbaa6dba-d9fe-4bfe-f80d-1a5272658fe4"
      },
      "source": [
        "Ebuss_df.describe()"
      ],
      "execution_count": 35,
      "outputs": [
        {
          "output_type": "execute_result",
          "data": {
            "text/html": [
              "<div>\n",
              "<style scoped>\n",
              "    .dataframe tbody tr th:only-of-type {\n",
              "        vertical-align: middle;\n",
              "    }\n",
              "\n",
              "    .dataframe tbody tr th {\n",
              "        vertical-align: top;\n",
              "    }\n",
              "\n",
              "    .dataframe thead th {\n",
              "        text-align: right;\n",
              "    }\n",
              "</style>\n",
              "<table border=\"1\" class=\"dataframe\">\n",
              "  <thead>\n",
              "    <tr style=\"text-align: right;\">\n",
              "      <th></th>\n",
              "      <th>reviews_rating</th>\n",
              "      <th>reviews_length</th>\n",
              "    </tr>\n",
              "  </thead>\n",
              "  <tbody>\n",
              "    <tr>\n",
              "      <th>count</th>\n",
              "      <td>30000.000000</td>\n",
              "      <td>30000.000000</td>\n",
              "    </tr>\n",
              "    <tr>\n",
              "      <th>mean</th>\n",
              "      <td>4.483133</td>\n",
              "      <td>183.056967</td>\n",
              "    </tr>\n",
              "    <tr>\n",
              "      <th>std</th>\n",
              "      <td>0.988441</td>\n",
              "      <td>186.054147</td>\n",
              "    </tr>\n",
              "    <tr>\n",
              "      <th>min</th>\n",
              "      <td>1.000000</td>\n",
              "      <td>2.000000</td>\n",
              "    </tr>\n",
              "    <tr>\n",
              "      <th>25%</th>\n",
              "      <td>4.000000</td>\n",
              "      <td>83.000000</td>\n",
              "    </tr>\n",
              "    <tr>\n",
              "      <th>50%</th>\n",
              "      <td>5.000000</td>\n",
              "      <td>131.000000</td>\n",
              "    </tr>\n",
              "    <tr>\n",
              "      <th>75%</th>\n",
              "      <td>5.000000</td>\n",
              "      <td>217.000000</td>\n",
              "    </tr>\n",
              "    <tr>\n",
              "      <th>max</th>\n",
              "      <td>5.000000</td>\n",
              "      <td>5865.000000</td>\n",
              "    </tr>\n",
              "  </tbody>\n",
              "</table>\n",
              "</div>"
            ],
            "text/plain": [
              "       reviews_rating  reviews_length\n",
              "count    30000.000000    30000.000000\n",
              "mean         4.483133      183.056967\n",
              "std          0.988441      186.054147\n",
              "min          1.000000        2.000000\n",
              "25%          4.000000       83.000000\n",
              "50%          5.000000      131.000000\n",
              "75%          5.000000      217.000000\n",
              "max          5.000000     5865.000000"
            ]
          },
          "metadata": {},
          "execution_count": 35
        }
      ]
    },
    {
      "cell_type": "code",
      "metadata": {
        "colab": {
          "base_uri": "https://localhost:8080/"
        },
        "id": "DKtHkGvkiVJ-",
        "outputId": "7dfb2cbc-cb21-474e-b526-6e7395e8ae8b"
      },
      "source": [
        "Ebuss_df.dtypes"
      ],
      "execution_count": 36,
      "outputs": [
        {
          "output_type": "execute_result",
          "data": {
            "text/plain": [
              "id                      object\n",
              "brand                   object\n",
              "categories              object\n",
              "manufacturer            object\n",
              "name                    object\n",
              "reviews_date            object\n",
              "reviews_didPurchase     object\n",
              "reviews_doRecommend     object\n",
              "reviews_rating           int64\n",
              "reviews_text            object\n",
              "reviews_title           object\n",
              "reviews_userCity        object\n",
              "reviews_userProvince    object\n",
              "reviews_username        object\n",
              "user_sentiment          object\n",
              "reviews_length           int64\n",
              "dtype: object"
            ]
          },
          "metadata": {},
          "execution_count": 36
        }
      ]
    },
    {
      "cell_type": "markdown",
      "metadata": {
        "id": "E2j4ROkXiVJ-"
      },
      "source": [
        "### 3. Data cleaning"
      ]
    },
    {
      "cell_type": "code",
      "metadata": {
        "id": "I2f05PGkiVJ-"
      },
      "source": [
        "Ebuss_df_subset = Ebuss_df.dropna(subset=['reviews_text'])\n"
      ],
      "execution_count": 37,
      "outputs": []
    },
    {
      "cell_type": "markdown",
      "metadata": {
        "id": "w3z7jiYXiVJ-"
      },
      "source": [
        "##### Observation - dropping rows where review_text is NULL and storing it into a new dataframe"
      ]
    },
    {
      "cell_type": "code",
      "metadata": {
        "id": "cGz2wbKviVJ-"
      },
      "source": [
        "X = Ebuss_df_subset['reviews_text']\n",
        "y = Ebuss_df_subset['reviews_rating']\n"
      ],
      "execution_count": 38,
      "outputs": []
    },
    {
      "cell_type": "markdown",
      "metadata": {
        "id": "aih8aOT8iVJ_"
      },
      "source": [
        "### 4. Feature extraction: In order to extract features from the text data, you may choose from any of the methods, including bag-of-words, TF-IDF vectorization or word embedding."
      ]
    },
    {
      "cell_type": "code",
      "metadata": {
        "id": "hEJLEC2aiVJ_"
      },
      "source": [
        "from sklearn.model_selection import cross_val_score\n",
        "from scipy.sparse import hstack\n",
        "from sklearn.feature_extraction.text import TfidfVectorizer\n",
        "\n",
        "\n"
      ],
      "execution_count": 39,
      "outputs": []
    },
    {
      "cell_type": "code",
      "metadata": {
        "id": "b8KBncIraH29"
      },
      "source": [
        "review_text=Ebuss_df_subset['reviews_text']\n",
        "train_text=Ebuss_df_subset['reviews_text']"
      ],
      "execution_count": 40,
      "outputs": []
    },
    {
      "cell_type": "code",
      "metadata": {
        "colab": {
          "base_uri": "https://localhost:8080/"
        },
        "id": "hW7Scf18VTJe",
        "outputId": "1aed6932-3d09-4904-8a7b-1a5c999eea97"
      },
      "source": [
        "type(train_text)"
      ],
      "execution_count": 41,
      "outputs": [
        {
          "output_type": "execute_result",
          "data": {
            "text/plain": [
              "pandas.core.series.Series"
            ]
          },
          "metadata": {},
          "execution_count": 41
        }
      ]
    },
    {
      "cell_type": "markdown",
      "metadata": {
        "id": "ONepdv1piVJ_"
      },
      "source": [
        "##### TF-IDF"
      ]
    },
    {
      "cell_type": "code",
      "metadata": {
        "id": "i4A9GTo-iVJ_"
      },
      "source": [
        "word_vectorizer = TfidfVectorizer(\n",
        "    sublinear_tf=True,\n",
        "    strip_accents='unicode',\n",
        "    analyzer='word',\n",
        "    token_pattern=r'\\w{1,}',\n",
        "    stop_words='english',\n",
        "    ngram_range=(1, 1),\n",
        "    max_features=10000)\n",
        "word_vectorizer.fit(review_text)\n",
        "train_word_features = word_vectorizer.transform(train_text)"
      ],
      "execution_count": 42,
      "outputs": []
    },
    {
      "cell_type": "code",
      "metadata": {
        "colab": {
          "base_uri": "https://localhost:8080/"
        },
        "id": "TdEtMraYiVJ_",
        "outputId": "82589c5e-730c-4ca7-c29a-b3c722ccb269"
      },
      "source": [
        "char_vectorizer = TfidfVectorizer(\n",
        "    sublinear_tf=True,\n",
        "    strip_accents='unicode',\n",
        "    analyzer='char',\n",
        "    stop_words='english',\n",
        "    ngram_range=(2, 6),\n",
        "    max_features=50000)\n",
        "char_vectorizer.fit(review_text)\n",
        "train_char_features = char_vectorizer.transform(train_text)\n",
        "\n",
        "train_features = hstack([train_char_features, train_word_features])"
      ],
      "execution_count": 43,
      "outputs": [
        {
          "output_type": "stream",
          "name": "stderr",
          "text": [
            "/usr/local/lib/python3.7/dist-packages/sklearn/feature_extraction/text.py:520: UserWarning: The parameter 'stop_words' will not be used since 'analyzer' != 'word'\n",
            "  warnings.warn(\"The parameter 'stop_words' will not be used\"\n"
          ]
        }
      ]
    },
    {
      "cell_type": "markdown",
      "metadata": {
        "id": "V_1xuz5RiVJ_"
      },
      "source": [
        "### 5. Training a text classification model: You need to build at least three ML models. You then need to analyse the performance of each of these models and choose the best model. "
      ]
    },
    {
      "cell_type": "markdown",
      "metadata": {
        "id": "Iyvdm_yNiVJ_"
      },
      "source": [
        "##### a. XGBOOST"
      ]
    },
    {
      "cell_type": "code",
      "metadata": {
        "colab": {
          "base_uri": "https://localhost:8080/"
        },
        "id": "DKQELPc0iVJ_",
        "outputId": "560252a1-b7a1-4467-aed5-c813c1efce7a"
      },
      "source": [
        "!pip install xgboost"
      ],
      "execution_count": 44,
      "outputs": [
        {
          "output_type": "stream",
          "name": "stdout",
          "text": [
            "Requirement already satisfied: xgboost in /usr/local/lib/python3.7/dist-packages (0.90)\n",
            "Requirement already satisfied: scipy in /usr/local/lib/python3.7/dist-packages (from xgboost) (1.4.1)\n",
            "Requirement already satisfied: numpy in /usr/local/lib/python3.7/dist-packages (from xgboost) (1.19.5)\n"
          ]
        }
      ]
    },
    {
      "cell_type": "code",
      "metadata": {
        "id": "S7YQFgHOiVJ_"
      },
      "source": [
        "import xgboost as xgb"
      ],
      "execution_count": 45,
      "outputs": []
    },
    {
      "cell_type": "code",
      "metadata": {
        "id": "lPcuehOdiVJ_"
      },
      "source": [
        "xgb_model=xgb.XGBClassifier()"
      ],
      "execution_count": 46,
      "outputs": []
    },
    {
      "cell_type": "markdown",
      "metadata": {
        "id": "E9YLuxJWkZRR"
      },
      "source": [
        "Training & Test Data "
      ]
    },
    {
      "cell_type": "code",
      "metadata": {
        "id": "3ns8ynE-kNhf"
      },
      "source": [
        "from sklearn.model_selection import train_test_split\n",
        "X_train, X_test, y_train, y_test = train_test_split(train_features, y,test_size=0.3,random_state=101)"
      ],
      "execution_count": 47,
      "outputs": []
    },
    {
      "cell_type": "code",
      "metadata": {
        "colab": {
          "base_uri": "https://localhost:8080/"
        },
        "id": "QMMUURiikfpG",
        "outputId": "4ab6df03-99d6-4aa7-c7bc-78b2f81a1e9f"
      },
      "source": [
        "xgb_model.fit(X_train,y_train)\n"
      ],
      "execution_count": 48,
      "outputs": [
        {
          "output_type": "execute_result",
          "data": {
            "text/plain": [
              "XGBClassifier(base_score=0.5, booster='gbtree', colsample_bylevel=1,\n",
              "              colsample_bynode=1, colsample_bytree=1, gamma=0,\n",
              "              learning_rate=0.1, max_delta_step=0, max_depth=3,\n",
              "              min_child_weight=1, missing=None, n_estimators=100, n_jobs=1,\n",
              "              nthread=None, objective='multi:softprob', random_state=0,\n",
              "              reg_alpha=0, reg_lambda=1, scale_pos_weight=1, seed=None,\n",
              "              silent=None, subsample=1, verbosity=1)"
            ]
          },
          "metadata": {},
          "execution_count": 48
        }
      ]
    },
    {
      "cell_type": "code",
      "metadata": {
        "id": "OWSd7G_Kkq-F"
      },
      "source": [
        "xgb_model_preds =xgb_model.predict(X_test)\n"
      ],
      "execution_count": 49,
      "outputs": []
    },
    {
      "cell_type": "code",
      "metadata": {
        "id": "4EINVXy7n6AI"
      },
      "source": [
        "from sklearn.metrics import accuracy_score\n",
        "\n",
        "\n",
        "xgb_accuracy=accuracy_score(xgb_model_preds,y_test)\n"
      ],
      "execution_count": 50,
      "outputs": []
    },
    {
      "cell_type": "code",
      "metadata": {
        "colab": {
          "base_uri": "https://localhost:8080/"
        },
        "id": "px81jze1oHyW",
        "outputId": "4787cc01-6b92-47d2-fdb1-8cbed4602930"
      },
      "source": [
        "print(\"XGBoost Model accuracy\",xgb_accuracy)\n"
      ],
      "execution_count": 51,
      "outputs": [
        {
          "output_type": "stream",
          "name": "stdout",
          "text": [
            "XGBoost Model accuracy 0.7428888888888889\n"
          ]
        }
      ]
    },
    {
      "cell_type": "markdown",
      "metadata": {
        "id": "XVOptXg0p_qE"
      },
      "source": [
        "b. Random Forest Classifier Model\n",
        "\n",
        "\n"
      ]
    },
    {
      "cell_type": "code",
      "metadata": {
        "id": "PDkNfCFepOsb"
      },
      "source": [
        "from sklearn.ensemble import RandomForestClassifier\n",
        "\n",
        "rfc_model = RandomForestClassifier()\n",
        "rfc_model.fit(X_train,y_train)\n",
        "rfc_preds=rfc_model.predict(X_test) "
      ],
      "execution_count": 52,
      "outputs": []
    },
    {
      "cell_type": "code",
      "metadata": {
        "id": "QXnllVoeqcjf"
      },
      "source": [
        "rfc_accuracy=accuracy_score(rfc_preds,y_test)\n"
      ],
      "execution_count": 53,
      "outputs": []
    },
    {
      "cell_type": "code",
      "metadata": {
        "colab": {
          "base_uri": "https://localhost:8080/"
        },
        "id": "10ZBiza6NtBB",
        "outputId": "70b2dd37-2d3a-4137-e73c-a487019818d0"
      },
      "source": [
        "print(\"RFC Model accuracy\",rfc_accuracy)\n"
      ],
      "execution_count": 54,
      "outputs": [
        {
          "output_type": "stream",
          "name": "stdout",
          "text": [
            "RFC Model accuracy 0.7573333333333333\n"
          ]
        }
      ]
    },
    {
      "cell_type": "markdown",
      "metadata": {
        "id": "-2isaBPdNzoV"
      },
      "source": [
        "c. Logistics Regression Model\n"
      ]
    },
    {
      "cell_type": "code",
      "metadata": {
        "id": "CaxNc9O_N4Po"
      },
      "source": [
        "from sklearn.linear_model import LogisticRegression\n",
        "\n",
        "lr_model = LogisticRegression(max_iter = 1000)\n",
        "lr_model.fit(X_train,y_train)\n",
        "lr_preds=lr_model.predict(X_test) "
      ],
      "execution_count": 55,
      "outputs": []
    },
    {
      "cell_type": "code",
      "metadata": {
        "id": "gFpK2ZeDPRL4"
      },
      "source": [
        "lr_accuracy=accuracy_score(lr_preds,y_test)\n"
      ],
      "execution_count": 56,
      "outputs": []
    },
    {
      "cell_type": "code",
      "metadata": {
        "colab": {
          "base_uri": "https://localhost:8080/"
        },
        "id": "luBj8_ZOPVYD",
        "outputId": "2b531126-dd77-4642-a263-ac5faf35f44d"
      },
      "source": [
        "print(\"LR Model accuracy\",lr_accuracy)\n"
      ],
      "execution_count": 57,
      "outputs": [
        {
          "output_type": "stream",
          "name": "stdout",
          "text": [
            "LR Model accuracy 0.7523333333333333\n"
          ]
        }
      ]
    },
    {
      "cell_type": "code",
      "metadata": {
        "id": "FWKcF8sWcETO"
      },
      "source": [
        ""
      ],
      "execution_count": 57,
      "outputs": []
    },
    {
      "cell_type": "markdown",
      "metadata": {
        "id": "EY4WvhNszEnT"
      },
      "source": [
        "Random forest is best among these 3 model. So it would be good to go with it "
      ]
    },
    {
      "cell_type": "markdown",
      "metadata": {
        "id": "-TZTEvj60O25"
      },
      "source": [
        "Saving the model"
      ]
    },
    {
      "cell_type": "code",
      "metadata": {
        "id": "IAS95az80QwQ"
      },
      "source": [
        "import pickle"
      ],
      "execution_count": 58,
      "outputs": []
    },
    {
      "cell_type": "code",
      "metadata": {
        "id": "g38vC27Z0RnO"
      },
      "source": [
        "# Save the Modle to file in the current working directory\n",
        "\n",
        "Pkl_Filename = \"Pickle_RFC1_Model.pkl\"  \n",
        "\n",
        "with open(Pkl_Filename, 'wb') as file:  \n",
        "    pickle.dump(rfc_model, file)"
      ],
      "execution_count": 59,
      "outputs": []
    },
    {
      "cell_type": "code",
      "metadata": {
        "colab": {
          "base_uri": "https://localhost:8080/"
        },
        "id": "ds93GOxs0hyK",
        "outputId": "eb3ae021-ab8d-46c6-83af-f0bd7917e69b"
      },
      "source": [
        "# Load the Model back from file\n",
        "Pkl_Filename = \"Pickle_RFC1_Model.pkl\"  \n",
        "\n",
        "with open(Pkl_Filename, 'rb') as file:  \n",
        "    Pickled_RFC_Model = pickle.load(file)\n",
        "    \n",
        "Pickled_RFC_Model\n",
        "\n"
      ],
      "execution_count": 60,
      "outputs": [
        {
          "output_type": "execute_result",
          "data": {
            "text/plain": [
              "RandomForestClassifier(bootstrap=True, ccp_alpha=0.0, class_weight=None,\n",
              "                       criterion='gini', max_depth=None, max_features='auto',\n",
              "                       max_leaf_nodes=None, max_samples=None,\n",
              "                       min_impurity_decrease=0.0, min_impurity_split=None,\n",
              "                       min_samples_leaf=1, min_samples_split=2,\n",
              "                       min_weight_fraction_leaf=0.0, n_estimators=100,\n",
              "                       n_jobs=None, oob_score=False, random_state=None,\n",
              "                       verbose=0, warm_start=False)"
            ]
          },
          "metadata": {},
          "execution_count": 60
        }
      ]
    },
    {
      "cell_type": "code",
      "metadata": {
        "colab": {
          "base_uri": "https://localhost:8080/",
          "height": 17
        },
        "id": "T8jJD3Swhil0",
        "outputId": "37089f34-318a-4a13-8b37-cfd511fa01bb"
      },
      "source": [
        "from google.colab import files\n",
        "files.download(Pkl_Filename)"
      ],
      "execution_count": 61,
      "outputs": [
        {
          "output_type": "display_data",
          "data": {
            "application/javascript": [
              "\n",
              "    async function download(id, filename, size) {\n",
              "      if (!google.colab.kernel.accessAllowed) {\n",
              "        return;\n",
              "      }\n",
              "      const div = document.createElement('div');\n",
              "      const label = document.createElement('label');\n",
              "      label.textContent = `Downloading \"${filename}\": `;\n",
              "      div.appendChild(label);\n",
              "      const progress = document.createElement('progress');\n",
              "      progress.max = size;\n",
              "      div.appendChild(progress);\n",
              "      document.body.appendChild(div);\n",
              "\n",
              "      const buffers = [];\n",
              "      let downloaded = 0;\n",
              "\n",
              "      const channel = await google.colab.kernel.comms.open(id);\n",
              "      // Send a message to notify the kernel that we're ready.\n",
              "      channel.send({})\n",
              "\n",
              "      for await (const message of channel.messages) {\n",
              "        // Send a message to notify the kernel that we're ready.\n",
              "        channel.send({})\n",
              "        if (message.buffers) {\n",
              "          for (const buffer of message.buffers) {\n",
              "            buffers.push(buffer);\n",
              "            downloaded += buffer.byteLength;\n",
              "            progress.value = downloaded;\n",
              "          }\n",
              "        }\n",
              "      }\n",
              "      const blob = new Blob(buffers, {type: 'application/binary'});\n",
              "      const a = document.createElement('a');\n",
              "      a.href = window.URL.createObjectURL(blob);\n",
              "      a.download = filename;\n",
              "      div.appendChild(a);\n",
              "      a.click();\n",
              "      div.remove();\n",
              "    }\n",
              "  "
            ],
            "text/plain": [
              "<IPython.core.display.Javascript object>"
            ]
          },
          "metadata": {}
        },
        {
          "output_type": "display_data",
          "data": {
            "application/javascript": [
              "download(\"download_e97c7c2a-0212-4310-9741-ee08a723f5b7\", \"Pickle_RFC1_Model.pkl\", 57309238)"
            ],
            "text/plain": [
              "<IPython.core.display.Javascript object>"
            ]
          },
          "metadata": {}
        }
      ]
    },
    {
      "cell_type": "code",
      "metadata": {
        "id": "tT2Jg90btI_K"
      },
      "source": [
        "# Save the Modle to file in the current working directory\n",
        "\n",
        "Pkl_Filename = \"Pickle_XGB1_Model.pkl\"  \n",
        "\n",
        "with open(Pkl_Filename, 'wb') as file:  \n",
        "    pickle.dump(xgb_model, file)"
      ],
      "execution_count": 62,
      "outputs": []
    },
    {
      "cell_type": "code",
      "metadata": {
        "id": "NIr4ZvTttJNx",
        "colab": {
          "base_uri": "https://localhost:8080/"
        },
        "outputId": "aadcb911-7be3-4678-9cdd-9e2c09ee4941"
      },
      "source": [
        "# Load the Model back from file\n",
        "Pkl_Filename = \"Pickle_XGB1_Model.pkl\"  \n",
        "\n",
        "with open(Pkl_Filename, 'rb') as file:  \n",
        "    Pickled_XGB_Model = pickle.load(file)\n",
        "    \n",
        "Pickled_XGB_Model"
      ],
      "execution_count": 63,
      "outputs": [
        {
          "output_type": "execute_result",
          "data": {
            "text/plain": [
              "XGBClassifier(base_score=0.5, booster='gbtree', colsample_bylevel=1,\n",
              "              colsample_bynode=1, colsample_bytree=1, gamma=0,\n",
              "              learning_rate=0.1, max_delta_step=0, max_depth=3,\n",
              "              min_child_weight=1, missing=nan, n_estimators=100, n_jobs=1,\n",
              "              nthread=None, objective='multi:softprob', random_state=0,\n",
              "              reg_alpha=0, reg_lambda=1, scale_pos_weight=1, seed=None,\n",
              "              silent=None, subsample=1, verbosity=1)"
            ]
          },
          "metadata": {},
          "execution_count": 63
        }
      ]
    },
    {
      "cell_type": "code",
      "metadata": {
        "id": "GZSbiXPCtJX_",
        "colab": {
          "base_uri": "https://localhost:8080/",
          "height": 17
        },
        "outputId": "a4811c3f-4402-4031-9c8e-edd0469ef1c2"
      },
      "source": [
        "from google.colab import files\n",
        "files.download(Pkl_Filename)"
      ],
      "execution_count": 64,
      "outputs": [
        {
          "output_type": "display_data",
          "data": {
            "application/javascript": [
              "\n",
              "    async function download(id, filename, size) {\n",
              "      if (!google.colab.kernel.accessAllowed) {\n",
              "        return;\n",
              "      }\n",
              "      const div = document.createElement('div');\n",
              "      const label = document.createElement('label');\n",
              "      label.textContent = `Downloading \"${filename}\": `;\n",
              "      div.appendChild(label);\n",
              "      const progress = document.createElement('progress');\n",
              "      progress.max = size;\n",
              "      div.appendChild(progress);\n",
              "      document.body.appendChild(div);\n",
              "\n",
              "      const buffers = [];\n",
              "      let downloaded = 0;\n",
              "\n",
              "      const channel = await google.colab.kernel.comms.open(id);\n",
              "      // Send a message to notify the kernel that we're ready.\n",
              "      channel.send({})\n",
              "\n",
              "      for await (const message of channel.messages) {\n",
              "        // Send a message to notify the kernel that we're ready.\n",
              "        channel.send({})\n",
              "        if (message.buffers) {\n",
              "          for (const buffer of message.buffers) {\n",
              "            buffers.push(buffer);\n",
              "            downloaded += buffer.byteLength;\n",
              "            progress.value = downloaded;\n",
              "          }\n",
              "        }\n",
              "      }\n",
              "      const blob = new Blob(buffers, {type: 'application/binary'});\n",
              "      const a = document.createElement('a');\n",
              "      a.href = window.URL.createObjectURL(blob);\n",
              "      a.download = filename;\n",
              "      div.appendChild(a);\n",
              "      a.click();\n",
              "      div.remove();\n",
              "    }\n",
              "  "
            ],
            "text/plain": [
              "<IPython.core.display.Javascript object>"
            ]
          },
          "metadata": {}
        },
        {
          "output_type": "display_data",
          "data": {
            "application/javascript": [
              "download(\"download_6950d62e-1457-4912-a3b3-48790dfc3026\", \"Pickle_XGB1_Model.pkl\", 1285233)"
            ],
            "text/plain": [
              "<IPython.core.display.Javascript object>"
            ]
          },
          "metadata": {}
        }
      ]
    },
    {
      "cell_type": "code",
      "metadata": {
        "id": "d1j80fOetid7"
      },
      "source": [
        "# Save the Modle to file in the current working directory\n",
        "\n",
        "Pkl_Filename = \"Pickle_LR1_Model.pkl\"  \n",
        "\n",
        "with open(Pkl_Filename, 'wb') as file:  \n",
        "    pickle.dump(lr_model, file)"
      ],
      "execution_count": 65,
      "outputs": []
    },
    {
      "cell_type": "code",
      "metadata": {
        "id": "OYbY_u6CtioQ",
        "colab": {
          "base_uri": "https://localhost:8080/"
        },
        "outputId": "8078bc6e-d01a-44d5-876e-1fa402e008a7"
      },
      "source": [
        "# Load the Model back from file\n",
        "Pkl_Filename = \"Pickle_LR1_Model.pkl\"  \n",
        "\n",
        "with open(Pkl_Filename, 'rb') as file:  \n",
        "    Pickled_LR_Model = pickle.load(file)\n",
        "    \n",
        "Pickled_LR_Model"
      ],
      "execution_count": 66,
      "outputs": [
        {
          "output_type": "execute_result",
          "data": {
            "text/plain": [
              "LogisticRegression(C=1.0, class_weight=None, dual=False, fit_intercept=True,\n",
              "                   intercept_scaling=1, l1_ratio=None, max_iter=1000,\n",
              "                   multi_class='auto', n_jobs=None, penalty='l2',\n",
              "                   random_state=None, solver='lbfgs', tol=0.0001, verbose=0,\n",
              "                   warm_start=False)"
            ]
          },
          "metadata": {},
          "execution_count": 66
        }
      ]
    },
    {
      "cell_type": "code",
      "metadata": {
        "id": "-rIDZpBxtiyG",
        "colab": {
          "base_uri": "https://localhost:8080/",
          "height": 17
        },
        "outputId": "f117bd19-c1f3-4c7b-e8c0-014d0e3bc226"
      },
      "source": [
        "from google.colab import files\n",
        "files.download(Pkl_Filename)"
      ],
      "execution_count": 67,
      "outputs": [
        {
          "output_type": "display_data",
          "data": {
            "application/javascript": [
              "\n",
              "    async function download(id, filename, size) {\n",
              "      if (!google.colab.kernel.accessAllowed) {\n",
              "        return;\n",
              "      }\n",
              "      const div = document.createElement('div');\n",
              "      const label = document.createElement('label');\n",
              "      label.textContent = `Downloading \"${filename}\": `;\n",
              "      div.appendChild(label);\n",
              "      const progress = document.createElement('progress');\n",
              "      progress.max = size;\n",
              "      div.appendChild(progress);\n",
              "      document.body.appendChild(div);\n",
              "\n",
              "      const buffers = [];\n",
              "      let downloaded = 0;\n",
              "\n",
              "      const channel = await google.colab.kernel.comms.open(id);\n",
              "      // Send a message to notify the kernel that we're ready.\n",
              "      channel.send({})\n",
              "\n",
              "      for await (const message of channel.messages) {\n",
              "        // Send a message to notify the kernel that we're ready.\n",
              "        channel.send({})\n",
              "        if (message.buffers) {\n",
              "          for (const buffer of message.buffers) {\n",
              "            buffers.push(buffer);\n",
              "            downloaded += buffer.byteLength;\n",
              "            progress.value = downloaded;\n",
              "          }\n",
              "        }\n",
              "      }\n",
              "      const blob = new Blob(buffers, {type: 'application/binary'});\n",
              "      const a = document.createElement('a');\n",
              "      a.href = window.URL.createObjectURL(blob);\n",
              "      a.download = filename;\n",
              "      div.appendChild(a);\n",
              "      a.click();\n",
              "      div.remove();\n",
              "    }\n",
              "  "
            ],
            "text/plain": [
              "<IPython.core.display.Javascript object>"
            ]
          },
          "metadata": {}
        },
        {
          "output_type": "display_data",
          "data": {
            "application/javascript": [
              "download(\"download_60cdd8d7-4b7e-4835-882c-45e462aea18a\", \"Pickle_LR1_Model.pkl\", 2400890)"
            ],
            "text/plain": [
              "<IPython.core.display.Javascript object>"
            ]
          },
          "metadata": {}
        }
      ]
    },
    {
      "cell_type": "code",
      "metadata": {
        "colab": {
          "base_uri": "https://localhost:8080/"
        },
        "id": "YAwQ9Oac0vMj",
        "outputId": "d8a77077-3405-4b7b-dede-1535184db498"
      },
      "source": [
        "# Use the Reloaded Model to \n",
        "# Calculate the accuracy score and predict target values\n",
        "\n",
        "# Calculate the Score \n",
        "score = Pickled_RFC_Model.score(X_test, y_test)  \n",
        "# Print the Score\n",
        "print(\"Test score: {0:.2f} %\".format(100 * score))  \n",
        "\n",
        "# Predict the Labels using the reloaded Model\n",
        "Ypredict = Pickled_RFC_Model.predict(X_test)  \n",
        "\n",
        "Ypredict"
      ],
      "execution_count": 68,
      "outputs": [
        {
          "output_type": "stream",
          "name": "stdout",
          "text": [
            "Test score: 75.73 %\n"
          ]
        },
        {
          "output_type": "execute_result",
          "data": {
            "text/plain": [
              "array([5, 5, 5, ..., 5, 5, 5])"
            ]
          },
          "metadata": {},
          "execution_count": 68
        }
      ]
    },
    {
      "cell_type": "code",
      "metadata": {
        "colab": {
          "base_uri": "https://localhost:8080/"
        },
        "id": "YuyeEX9-Y_fR",
        "outputId": "aaf13157-157f-4be6-9060-aa94e74d5298"
      },
      "source": [
        "X_test[0]"
      ],
      "execution_count": 69,
      "outputs": [
        {
          "output_type": "execute_result",
          "data": {
            "text/plain": [
              "<1x60000 sparse matrix of type '<class 'numpy.float64'>'\n",
              "\twith 239 stored elements in Compressed Sparse Row format>"
            ]
          },
          "metadata": {},
          "execution_count": 69
        }
      ]
    },
    {
      "cell_type": "code",
      "metadata": {
        "colab": {
          "background_save": true
        },
        "id": "EEmP0FxT04kw"
      },
      "source": [
        ""
      ],
      "execution_count": null,
      "outputs": []
    },
    {
      "cell_type": "code",
      "metadata": {
        "id": "3mZypaIwYggS"
      },
      "source": [
        ""
      ],
      "execution_count": null,
      "outputs": []
    },
    {
      "cell_type": "markdown",
      "metadata": {
        "id": "q7iIDlia7GDe"
      },
      "source": [
        "I have noticed that item-item based is providing a better result. Please refer notebook - \"Final Capstone -Recommendation System by Rakesh Sept 9th.ipynb\" for more details"
      ]
    },
    {
      "cell_type": "code",
      "metadata": {
        "id": "p6thv7OVwFWf"
      },
      "source": [
        ""
      ],
      "execution_count": null,
      "outputs": []
    }
  ]
}